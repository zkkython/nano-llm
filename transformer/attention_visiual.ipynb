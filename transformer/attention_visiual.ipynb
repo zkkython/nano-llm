{
 "cells": [
  {
   "cell_type": "code",
   "execution_count": 1,
   "metadata": {},
   "outputs": [],
   "source": [
    "import torch \n",
    "\n",
    "import torch.nn as nn\n"
   ]
  },
  {
   "cell_type": "code",
   "execution_count": 2,
   "metadata": {},
   "outputs": [
    {
     "data": {
      "text/plain": [
       "tensor([[0.0614, 0.8415, 0.9287, 0.3447, 0.0035],\n",
       "        [0.9626, 0.5218, 0.7776, 0.0698, 0.9172],\n",
       "        [0.4020, 0.7778, 0.3272, 0.2693, 0.4586]])"
      ]
     },
     "execution_count": 2,
     "metadata": {},
     "output_type": "execute_result"
    }
   ],
   "source": [
    "k = torch.rand(3,5)\n",
    "k"
   ]
  },
  {
   "cell_type": "code",
   "execution_count": 3,
   "metadata": {},
   "outputs": [
    {
     "data": {
      "text/plain": [
       "tensor([[0.0614, 0.9626, 0.4020],\n",
       "        [0.8415, 0.5218, 0.7778],\n",
       "        [0.9287, 0.7776, 0.3272],\n",
       "        [0.3447, 0.0698, 0.2693],\n",
       "        [0.0035, 0.9172, 0.4586]])"
      ]
     },
     "execution_count": 3,
     "metadata": {},
     "output_type": "execute_result"
    }
   ],
   "source": [
    "k.T"
   ]
  },
  {
   "cell_type": "code",
   "execution_count": 5,
   "metadata": {},
   "outputs": [
    {
     "name": "stdout",
     "output_type": "stream",
     "text": [
      "tensor([[0.0614, 0.8415, 0.9287, 0.3447, 0.0035],\n",
      "        [0.9626, 0.5218, 0.7776, 0.0698, 0.9172],\n",
      "        [0.4020, 0.7778, 0.3272, 0.2693, 0.4586]])\n"
     ]
    },
    {
     "data": {
      "text/plain": [
       "tensor([[-0.9287, -0.3447, -0.0035,  0.0614,  0.8415],\n",
       "        [-0.7776, -0.0698, -0.9172,  0.9626,  0.5218],\n",
       "        [-0.3272, -0.2693, -0.4586,  0.4020,  0.7778]])"
      ]
     },
     "execution_count": 5,
     "metadata": {},
     "output_type": "execute_result"
    }
   ],
   "source": [
    "def rotate_half(x):\n",
    "    \"\"\"Rotates half the hidden dims of the input.\"\"\"\n",
    "    x1 = x[..., : x.shape[-1] // 2]\n",
    "    x2 = x[..., x.shape[-1] // 2 :]\n",
    "    return torch.cat((-x2, x1), dim=-1)\n",
    "\n",
    "print(k)\n",
    "rotate_half((k))"
   ]
  },
  {
   "cell_type": "code",
   "execution_count": null,
   "metadata": {},
   "outputs": [],
   "source": []
  }
 ],
 "metadata": {
  "kernelspec": {
   "display_name": "torch",
   "language": "python",
   "name": "python3"
  },
  "language_info": {
   "name": "python",
   "version": "3.12.9"
  },
  "orig_nbformat": 4
 },
 "nbformat": 4,
 "nbformat_minor": 2
}
