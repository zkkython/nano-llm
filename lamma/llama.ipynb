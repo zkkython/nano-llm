{
 "cells": [
  {
   "cell_type": "code",
   "execution_count": 1,
   "metadata": {},
   "outputs": [
    {
     "data": {
      "text/html": [
       "<style type=\"text/css\">\n",
       "#T_f3aea_row0_col0, #T_f3aea_row0_col1, #T_f3aea_row0_col2, #T_f3aea_row1_col0, #T_f3aea_row1_col1, #T_f3aea_row1_col2, #T_f3aea_row2_col0, #T_f3aea_row2_col1, #T_f3aea_row2_col2, #T_f3aea_row3_col0, #T_f3aea_row3_col1, #T_f3aea_row3_col2, #T_f3aea_row4_col0, #T_f3aea_row4_col1, #T_f3aea_row4_col2 {\n",
       "  text-align: center;\n",
       "}\n",
       "</style>\n",
       "<table id=\"T_f3aea\">\n",
       "  <thead>\n",
       "    <tr>\n",
       "      <th id=\"T_f3aea_level0_col0\" class=\"col_heading level0 col0\" >0</th>\n",
       "      <th id=\"T_f3aea_level0_col1\" class=\"col_heading level0 col1\" >1</th>\n",
       "      <th id=\"T_f3aea_level0_col2\" class=\"col_heading level0 col2\" >2</th>\n",
       "    </tr>\n",
       "  </thead>\n",
       "  <tbody>\n",
       "    <tr>\n",
       "      <td id=\"T_f3aea_row0_col0\" class=\"data row0 col0\" >0.66</td>\n",
       "      <td id=\"T_f3aea_row0_col1\" class=\"data row0 col1\" >-0.60</td>\n",
       "      <td id=\"T_f3aea_row0_col2\" class=\"data row0 col2\" >-0.06</td>\n",
       "    </tr>\n",
       "    <tr>\n",
       "      <td id=\"T_f3aea_row1_col0\" class=\"data row1 col0\" >2.08</td>\n",
       "      <td id=\"T_f3aea_row1_col1\" class=\"data row1 col1\" >0.15</td>\n",
       "      <td id=\"T_f3aea_row1_col2\" class=\"data row1 col2\" >0.38</td>\n",
       "    </tr>\n",
       "    <tr>\n",
       "      <td id=\"T_f3aea_row2_col0\" class=\"data row2 col0\" >1.05</td>\n",
       "      <td id=\"T_f3aea_row2_col1\" class=\"data row2 col1\" >-0.01</td>\n",
       "      <td id=\"T_f3aea_row2_col2\" class=\"data row2 col2\" >-1.52</td>\n",
       "    </tr>\n",
       "    <tr>\n",
       "      <td id=\"T_f3aea_row3_col0\" class=\"data row3 col0\" >0.81</td>\n",
       "      <td id=\"T_f3aea_row3_col1\" class=\"data row3 col1\" >-0.99</td>\n",
       "      <td id=\"T_f3aea_row3_col2\" class=\"data row3 col2\" >-0.90</td>\n",
       "    </tr>\n",
       "    <tr>\n",
       "      <td id=\"T_f3aea_row4_col0\" class=\"data row4 col0\" >1.36</td>\n",
       "      <td id=\"T_f3aea_row4_col1\" class=\"data row4 col1\" >-1.83</td>\n",
       "      <td id=\"T_f3aea_row4_col2\" class=\"data row4 col2\" >1.63</td>\n",
       "    </tr>\n",
       "  </tbody>\n",
       "</table>\n"
      ],
      "text/plain": [
       "<pandas.io.formats.style.Styler at 0x702376bcd9d0>"
      ]
     },
     "execution_count": 1,
     "metadata": {},
     "output_type": "execute_result"
    }
   ],
   "source": []
  },
  {
   "cell_type": "code",
   "execution_count": null,
   "metadata": {},
   "outputs": [],
   "source": []
  }
 ],
 "metadata": {
  "kernelspec": {
   "display_name": "torch",
   "language": "python",
   "name": "python3"
  },
  "language_info": {
   "codemirror_mode": {
    "name": "ipython",
    "version": 3
   },
   "file_extension": ".py",
   "mimetype": "text/x-python",
   "name": "python",
   "nbconvert_exporter": "python",
   "pygments_lexer": "ipython3",
   "version": "3.12.9"
  }
 },
 "nbformat": 4,
 "nbformat_minor": 2
}
