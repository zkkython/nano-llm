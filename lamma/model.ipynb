{
 "cells": [
  {
   "cell_type": "code",
   "execution_count": 10,
   "metadata": {},
   "outputs": [],
   "source": [
    "from torch import nn\n",
    "import torch\n",
    "class TorchRMSNorm(nn.Module):\n",
    "\n",
    "    def __init__(self, dim: int, eps: float = 1e-6):\n",
    "        super().__init__()\n",
    "        self.eps = eps\n",
    "        # (dim), the gamma parameter for scaling\n",
    "        self.weight = nn.Parameter(torch.ones(dim))\n",
    "\n",
    "    def _norm(self, x: torch.Tensor):\n",
    "        # x.pow(2).mean(-1, keepdim=True): (bs, seq_len, dim) -> (bs, seq_len, 1)\n",
    "        # x: (bs, seq_len, dim) * (bs, seq_len, 1) -> (bs, seq_len, dim)\n",
    "        # rsqrt: 1/sqrt(x)\n",
    "        # pow: x^y\n",
    "        # mean: mean of x along the last dimension\n",
    "        # keepdim: keep the last dimension\n",
    "        return x * torch.rsqrt(x.pow(2).mean(-1, keepdim=True) + self.eps)\n",
    "\n",
    "    def forward(self, x: torch.Tensor) -> torch.Tensor:\n",
    "\n",
    "        return self.weight * self._norm(x.to(torch.float32)).type_as(x)"
   ]
  },
  {
   "cell_type": "code",
   "execution_count": 11,
   "metadata": {},
   "outputs": [],
   "source": [
    "import jax.numpy as jnp\n",
    "from flax import nnx\n",
    "from typing import Optional\n",
    "\n",
    "class JAXRMSNorm(nnx.Module):\n",
    "    \"\"\"RMSNorm implementation using Flax NNX\"\"\"\n",
    "    \n",
    "    def __init__(self, dim: int, eps: float = 1e-6, rngs: Optional[nnx.Rngs] = None):\n",
    "        super().__init__()\n",
    "        self.dim = dim\n",
    "        self.eps = eps\n",
    "        # Initialize scale parameter (gamma)\n",
    "        self.weight = nnx.Param(jnp.ones(dim), name='weight')\n",
    "        \n",
    "    def _norm(self, x: jnp.ndarray) -> jnp.ndarray:\n",
    "        # Calculate RMS along the last dimension\n",
    "        rms = jnp.sqrt(jnp.mean(jnp.square(x), axis=-1, keepdims=True) + self.eps)\n",
    "        # Normalize input\n",
    "        return x / rms\n",
    "    \n",
    "    def __call__(self, x: jnp.ndarray) -> jnp.ndarray:\n",
    "        # Apply normalization and scaling\n",
    "        return self.weight * self._norm(x.astype(jnp.float32)).astype(x.dtype)"
   ]
  },
  {
   "cell_type": "code",
   "execution_count": 13,
   "metadata": {},
   "outputs": [
    {
     "name": "stdout",
     "output_type": "stream",
     "text": [
      "tensor([[0.5380372, 1.3657274, 1.0515295, 0.8599895],\n",
      "        [0.3483647, 0.3483108, 0.1296914, 1.9340326],\n",
      "        [0.8951303, 1.0544027, 0.0306527, 1.4443089]], dtype=torch.float64,\n",
      "       grad_fn=<MulBackward0>)\n",
      "[[0.5380372 1.3657274 1.0515295 0.8599895]\n",
      " [0.3483647 0.3483108 0.1296914 1.9340326]\n",
      " [0.8951303 1.0544027 0.0306527 1.4443089]]\n"
     ]
    }
   ],
   "source": [
    "# 设置PyTorch打印选项\n",
    "torch.set_printoptions(precision=7)\n",
    "\n",
    "# 设置JAX打印选项\n",
    "jnp.set_printoptions(precision=7)\n",
    "import numpy as np\n",
    "np.random.seed(42)\n",
    "a = np.random.rand(3, 4)\n",
    "\n",
    "b = torch.from_numpy(a)\n",
    "c = jnp.array(a)\n",
    "\n",
    "norm = TorchRMSNorm(b.shape[-1])\n",
    "y1 = norm(b)\n",
    "print(y1)\n",
    "\n",
    "n = JAXRMSNorm(c.shape[-1])\n",
    "y2 = n(c)\n",
    "print(y2)\n"
   ]
  },
  {
   "cell_type": "code",
   "execution_count": null,
   "metadata": {},
   "outputs": [],
   "source": []
  }
 ],
 "metadata": {
  "kernelspec": {
   "display_name": "torch",
   "language": "python",
   "name": "python3"
  },
  "language_info": {
   "codemirror_mode": {
    "name": "ipython",
    "version": 3
   },
   "file_extension": ".py",
   "mimetype": "text/x-python",
   "name": "python",
   "nbconvert_exporter": "python",
   "pygments_lexer": "ipython3",
   "version": "3.12.9"
  }
 },
 "nbformat": 4,
 "nbformat_minor": 2
}
