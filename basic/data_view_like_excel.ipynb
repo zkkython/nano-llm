{
 "cells": [
  {
   "cell_type": "code",
   "execution_count": 2,
   "metadata": {},
   "outputs": [
    {
     "data": {
      "text/html": [
       "<style type=\"text/css\">\n",
       "#T_b85e6_row0_col0, #T_b85e6_row0_col1, #T_b85e6_row0_col2, #T_b85e6_row1_col0, #T_b85e6_row1_col1, #T_b85e6_row1_col2, #T_b85e6_row2_col0, #T_b85e6_row2_col1, #T_b85e6_row2_col2, #T_b85e6_row3_col0, #T_b85e6_row3_col1, #T_b85e6_row3_col2, #T_b85e6_row4_col0, #T_b85e6_row4_col1, #T_b85e6_row4_col2 {\n",
       "  text-align: center;\n",
       "}\n",
       "</style>\n",
       "<table id=\"T_b85e6\">\n",
       "  <thead>\n",
       "    <tr>\n",
       "      <th id=\"T_b85e6_level0_col0\" class=\"col_heading level0 col0\" >0</th>\n",
       "      <th id=\"T_b85e6_level0_col1\" class=\"col_heading level0 col1\" >1</th>\n",
       "      <th id=\"T_b85e6_level0_col2\" class=\"col_heading level0 col2\" >2</th>\n",
       "    </tr>\n",
       "  </thead>\n",
       "  <tbody>\n",
       "    <tr>\n",
       "      <td id=\"T_b85e6_row0_col0\" class=\"data row0 col0\" >0.70</td>\n",
       "      <td id=\"T_b85e6_row0_col1\" class=\"data row0 col1\" >0.62</td>\n",
       "      <td id=\"T_b85e6_row0_col2\" class=\"data row0 col2\" >-0.70</td>\n",
       "    </tr>\n",
       "    <tr>\n",
       "      <td id=\"T_b85e6_row1_col0\" class=\"data row1 col0\" >-1.09</td>\n",
       "      <td id=\"T_b85e6_row1_col1\" class=\"data row1 col1\" >-1.19</td>\n",
       "      <td id=\"T_b85e6_row1_col2\" class=\"data row1 col2\" >0.43</td>\n",
       "    </tr>\n",
       "    <tr>\n",
       "      <td id=\"T_b85e6_row2_col0\" class=\"data row2 col0\" >1.04</td>\n",
       "      <td id=\"T_b85e6_row2_col1\" class=\"data row2 col1\" >-1.04</td>\n",
       "      <td id=\"T_b85e6_row2_col2\" class=\"data row2 col2\" >0.64</td>\n",
       "    </tr>\n",
       "    <tr>\n",
       "      <td id=\"T_b85e6_row3_col0\" class=\"data row3 col0\" >-0.74</td>\n",
       "      <td id=\"T_b85e6_row3_col1\" class=\"data row3 col1\" >0.54</td>\n",
       "      <td id=\"T_b85e6_row3_col2\" class=\"data row3 col2\" >-0.43</td>\n",
       "    </tr>\n",
       "    <tr>\n",
       "      <td id=\"T_b85e6_row4_col0\" class=\"data row4 col0\" >0.30</td>\n",
       "      <td id=\"T_b85e6_row4_col1\" class=\"data row4 col1\" >0.90</td>\n",
       "      <td id=\"T_b85e6_row4_col2\" class=\"data row4 col2\" >-0.82</td>\n",
       "    </tr>\n",
       "  </tbody>\n",
       "</table>\n"
      ],
      "text/plain": [
       "<pandas.io.formats.style.Styler at 0x7d536362f4d0>"
      ]
     },
     "execution_count": 2,
     "metadata": {},
     "output_type": "execute_result"
    }
   ],
   "source": [
    "import torch\n",
    "import pandas as pd\n",
    "\n",
    "# 创建示例Tensor并转为DataFrame\n",
    "tensor = torch.randn(5, 3)\n",
    "df = pd.DataFrame(tensor.numpy())\n",
    "\n",
    "# 设置显示样式：隐藏行号、居中对齐、保留两位小数\n",
    "styled_df = (\n",
    "    df.style\n",
    "    .format(\"{:.2f}\")  # 所有列保留两位小数\n",
    "    .hide(axis=\"index\")  # 隐藏行索引\n",
    "    .set_properties(**{'text-align': 'center'})  # 居中对齐\n",
    ")\n",
    "\n",
    "styled_df  # 在Jupyter Notebook中直接显示"
   ]
  },
  {
   "cell_type": "code",
   "execution_count": 6,
   "metadata": {},
   "outputs": [
    {
     "name": "stdout",
     "output_type": "stream",
     "text": [
      "tensor([ 0,  2,  4,  6,  8, 10, 12, 14, 16, 18, 20, 22, 24, 26, 28, 30, 32, 34,\n",
      "        36, 38, 40, 42, 44, 46, 48, 50, 52, 54, 56, 58, 60, 62, 64, 66, 68, 70,\n",
      "        72, 74, 76, 78, 80, 82, 84, 86, 88, 90, 92, 94, 96, 98])\n",
      "tensor([ 0.,  2.,  4.,  6.,  8., 10., 12., 14., 16., 18., 20., 22., 24., 26.,\n",
      "        28., 30., 32., 34., 36., 38., 40., 42., 44., 46., 48., 50., 52., 54.,\n",
      "        56., 58., 60., 62., 64., 66., 68., 70., 72., 74., 76., 78., 80., 82.,\n",
      "        84., 86., 88., 90., 92., 94., 96., 98.])\n"
     ]
    }
   ],
   "source": [
    "import torch\n",
    "a = torch.arange(0, 100, 2)\n",
    "print(a)\n",
    "b = torch.arange(0,100,2).float()\n",
    "print(b)"
   ]
  },
  {
   "cell_type": "code",
   "execution_count": 9,
   "metadata": {},
   "outputs": [
    {
     "name": "stdout",
     "output_type": "stream",
     "text": [
      "tensor([0, 2, 4])\n",
      "tensor([10, 12, 14, 16, 18])\n",
      "tensor([[ 0,  0,  0,  0,  0],\n",
      "        [20, 24, 28, 32, 36],\n",
      "        [40, 48, 56, 64, 72]])\n"
     ]
    }
   ],
   "source": [
    "import torch\n",
    "\n",
    "a = torch.arange(0, 5,2)\n",
    "print(a)\n",
    "b = torch.arange(10,20,2)\n",
    "print(b)\n",
    "\n",
    "c = torch.outer(a,b)\n",
    "print(c)\n"
   ]
  },
  {
   "cell_type": "code",
   "execution_count": 13,
   "metadata": {},
   "outputs": [
    {
     "name": "stdout",
     "output_type": "stream",
     "text": [
      "tensor([0., 2., 4.])\n",
      "tensor([1., 1., 1.])\n"
     ]
    },
    {
     "data": {
      "text/plain": [
       "tensor([ 1.0000+0.0000j, -0.4161+0.9093j, -0.6536-0.7568j])"
      ]
     },
     "execution_count": 13,
     "metadata": {},
     "output_type": "execute_result"
    }
   ],
   "source": [
    "a = torch.arange(0, 5,2).float()\n",
    "print(a)\n",
    "\n",
    "b = torch.ones_like(a)\n",
    "print(b)\n",
    "\n",
    "\n",
    "torch.polar(torch.ones_like(a), a)"
   ]
  },
  {
   "cell_type": "code",
   "execution_count": 15,
   "metadata": {},
   "outputs": [
    {
     "data": {
      "text/plain": [
       "0.9092974268256817"
      ]
     },
     "execution_count": 15,
     "metadata": {},
     "output_type": "execute_result"
    }
   ],
   "source": [
    "import math\n",
    "\n",
    "math.cos(2)\n",
    "math.sin(2)"
   ]
  },
  {
   "cell_type": "code",
   "execution_count": 16,
   "metadata": {},
   "outputs": [
    {
     "data": {
      "text/plain": [
       "tensor([0, 1, 2, 3, 4, 5, 6, 7, 8, 9])"
      ]
     },
     "execution_count": 16,
     "metadata": {},
     "output_type": "execute_result"
    }
   ],
   "source": [
    "torch.arange(10)"
   ]
  },
  {
   "cell_type": "code",
   "execution_count": 22,
   "metadata": {},
   "outputs": [
    {
     "name": "stdout",
     "output_type": "stream",
     "text": [
      "tensor([0., 1., 2., 3., 4., 5., 6., 7., 8., 9.])\n",
      "tensor([0., 1., 2., 3., 4., 5., 6., 7., 8., 9.])\n"
     ]
    },
    {
     "data": {
      "text/plain": [
       "tensor([ 0.0000+0.0000j,  0.5403+0.8415j, -0.8323+1.8186j, -2.9700+0.4234j,\n",
       "        -2.6146-3.0272j,  1.4183-4.7946j,  5.7610-1.6765j,  5.2773+4.5989j,\n",
       "        -1.1640+7.9149j, -8.2002+3.7091j])"
      ]
     },
     "execution_count": 22,
     "metadata": {},
     "output_type": "execute_result"
    }
   ],
   "source": [
    "a = torch.arange(10).float()\n",
    "b = torch.arange(10).float()\n",
    "print(a)\n",
    "print(b)\n",
    "torch.polar(a, b)"
   ]
  },
  {
   "cell_type": "code",
   "execution_count": 25,
   "metadata": {},
   "outputs": [
    {
     "data": {
      "text/plain": [
       "-0.8322936730942848"
      ]
     },
     "execution_count": 25,
     "metadata": {},
     "output_type": "execute_result"
    }
   ],
   "source": [
    "2 * math.sin(2)\n",
    "2 * math.cos(2)"
   ]
  },
  {
   "cell_type": "code",
   "execution_count": 33,
   "metadata": {},
   "outputs": [
    {
     "name": "stdout",
     "output_type": "stream",
     "text": [
      "tensor([[[ 0.4828, -0.7157,  0.2841, -0.2611],\n",
      "         [ 1.2683, -0.9698,  0.9873,  0.0608],\n",
      "         [-1.1975,  0.4187,  0.5773, -0.0235]],\n",
      "\n",
      "        [[-1.1678,  0.5373,  1.8520,  1.0601],\n",
      "         [ 0.8407, -2.5092, -0.9872,  1.2944],\n",
      "         [-2.1075, -0.6487, -1.6468,  0.1553]],\n",
      "\n",
      "        [[-0.1607, -1.1331, -0.9364,  0.7902],\n",
      "         [ 0.4609,  0.0084,  1.5581, -1.9579],\n",
      "         [ 0.1918, -0.4210,  0.8150, -0.8730]],\n",
      "\n",
      "        [[-1.0201,  0.2158,  1.1502,  0.0419],\n",
      "         [ 0.0988,  1.3335, -1.3125, -1.3773],\n",
      "         [ 1.0808, -0.2699,  1.0712,  1.3845]],\n",
      "\n",
      "        [[ 0.5062,  1.1081, -0.5404, -0.5584],\n",
      "         [ 0.3509,  0.0748, -1.1312, -0.3952],\n",
      "         [ 0.5770, -0.5398, -0.4251, -0.3915]]])\n",
      "torch.Size([5, 3, 4])\n",
      "5 3\n",
      "torch.Size([5, 3, 2, 2])\n"
     ]
    }
   ],
   "source": [
    "x = torch.randn(5, 3, 4)\n",
    "print(x)\n",
    "print(x.shape)\n",
    "print(*x.shape[:-1])\n",
    "y = x.reshape(*x.shape[:-1], -1, 2)\n",
    "print(y.shape)  # 将最后一个维度，按照两两组合一起"
   ]
  },
  {
   "cell_type": "code",
   "execution_count": 35,
   "metadata": {},
   "outputs": [
    {
     "name": "stdout",
     "output_type": "stream",
     "text": [
      "tensor([[ 0.9176, -1.8937,  0.4263,  0.5140, -0.2966,  1.5288,  0.0998, -1.2622,\n",
      "          1.1667, -0.5259],\n",
      "        [-0.7966,  0.7539,  0.4374, -0.1496,  1.2094, -1.4577, -0.4989, -2.6800,\n",
      "          0.1303,  0.8238]])\n",
      "tensor([[ 1.0898,  0.5281,  2.3455,  1.9456,  3.3717,  0.6541, 10.0215,  0.7923,\n",
      "          0.8571,  1.9015],\n",
      "        [ 1.2553,  1.3264,  2.2864,  6.6846,  0.8269,  0.6860,  2.0044,  0.3731,\n",
      "          7.6734,  1.2138]])\n",
      "tensor([0.9740, 0.8727])\n",
      "tensor([[0.9740],\n",
      "        [0.8727]])\n"
     ]
    }
   ],
   "source": [
    "from torch import rsqrt\n",
    "\n",
    "\n",
    "x = torch.randn(2,10)\n",
    "print(x)\n",
    "y = rsqrt(x.pow(2))\n",
    "print(y)\n",
    "z = torch.rsqrt(x.pow(2).mean(-1))\n",
    "print(z)\n",
    "z2 = torch.rsqrt(x.pow(2).mean(-1, keepdim=True))\n",
    "print(z2)"
   ]
  },
  {
   "cell_type": "code",
   "execution_count": 6,
   "metadata": {},
   "outputs": [
    {
     "name": "stdout",
     "output_type": "stream",
     "text": [
      "tensor([[9., 5., 1., 1.],\n",
      "        [5., 2., 2., 0.],\n",
      "        [1., 8., 0., 1.]])\n",
      "tensor([[1., 1., 1., 1.],\n",
      "        [1., 1., 1., 1.],\n",
      "        [1., 1., 1., 1.]])\n",
      "tensor([[12., 85., 50.,  2.],\n",
      "        [63., 35., 74., 11.],\n",
      "        [48., 55., 70., 22.]])\n"
     ]
    }
   ],
   "source": [
    "import torch\n",
    "a = torch.randint(0, 10, (3, 4)).float()\n",
    "print(a)\n",
    "b = torch.ones_like(a)\n",
    "print(b)\n",
    "c = torch.randint_like(a, 0, 100)\n",
    "print(c)"
   ]
  },
  {
   "cell_type": "code",
   "execution_count": null,
   "metadata": {},
   "outputs": [],
   "source": []
  }
 ],
 "metadata": {
  "kernelspec": {
   "display_name": "torch",
   "language": "python",
   "name": "python3"
  },
  "language_info": {
   "codemirror_mode": {
    "name": "ipython",
    "version": 3
   },
   "file_extension": ".py",
   "mimetype": "text/x-python",
   "name": "python",
   "nbconvert_exporter": "python",
   "pygments_lexer": "ipython3",
   "version": "3.12.9"
  }
 },
 "nbformat": 4,
 "nbformat_minor": 2
}
