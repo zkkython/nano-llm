{
 "cells": [
  {
   "cell_type": "code",
   "execution_count": 1,
   "metadata": {},
   "outputs": [
    {
     "data": {
      "text/html": [
       "<style type=\"text/css\">\n",
       "#T_fd94b_row0_col0, #T_fd94b_row0_col1, #T_fd94b_row0_col2, #T_fd94b_row1_col0, #T_fd94b_row1_col1, #T_fd94b_row1_col2, #T_fd94b_row2_col0, #T_fd94b_row2_col1, #T_fd94b_row2_col2, #T_fd94b_row3_col0, #T_fd94b_row3_col1, #T_fd94b_row3_col2, #T_fd94b_row4_col0, #T_fd94b_row4_col1, #T_fd94b_row4_col2 {\n",
       "  text-align: center;\n",
       "}\n",
       "</style>\n",
       "<table id=\"T_fd94b\">\n",
       "  <thead>\n",
       "    <tr>\n",
       "      <th id=\"T_fd94b_level0_col0\" class=\"col_heading level0 col0\" >0</th>\n",
       "      <th id=\"T_fd94b_level0_col1\" class=\"col_heading level0 col1\" >1</th>\n",
       "      <th id=\"T_fd94b_level0_col2\" class=\"col_heading level0 col2\" >2</th>\n",
       "    </tr>\n",
       "  </thead>\n",
       "  <tbody>\n",
       "    <tr>\n",
       "      <td id=\"T_fd94b_row0_col0\" class=\"data row0 col0\" >0.04</td>\n",
       "      <td id=\"T_fd94b_row0_col1\" class=\"data row0 col1\" >0.78</td>\n",
       "      <td id=\"T_fd94b_row0_col2\" class=\"data row0 col2\" >-2.61</td>\n",
       "    </tr>\n",
       "    <tr>\n",
       "      <td id=\"T_fd94b_row1_col0\" class=\"data row1 col0\" >-0.66</td>\n",
       "      <td id=\"T_fd94b_row1_col1\" class=\"data row1 col1\" >-0.96</td>\n",
       "      <td id=\"T_fd94b_row1_col2\" class=\"data row1 col2\" >0.63</td>\n",
       "    </tr>\n",
       "    <tr>\n",
       "      <td id=\"T_fd94b_row2_col0\" class=\"data row2 col0\" >2.22</td>\n",
       "      <td id=\"T_fd94b_row2_col1\" class=\"data row2 col1\" >0.21</td>\n",
       "      <td id=\"T_fd94b_row2_col2\" class=\"data row2 col2\" >-0.09</td>\n",
       "    </tr>\n",
       "    <tr>\n",
       "      <td id=\"T_fd94b_row3_col0\" class=\"data row3 col0\" >1.27</td>\n",
       "      <td id=\"T_fd94b_row3_col1\" class=\"data row3 col1\" >-0.05</td>\n",
       "      <td id=\"T_fd94b_row3_col2\" class=\"data row3 col2\" >-0.65</td>\n",
       "    </tr>\n",
       "    <tr>\n",
       "      <td id=\"T_fd94b_row4_col0\" class=\"data row4 col0\" >-0.24</td>\n",
       "      <td id=\"T_fd94b_row4_col1\" class=\"data row4 col1\" >-0.96</td>\n",
       "      <td id=\"T_fd94b_row4_col2\" class=\"data row4 col2\" >-0.09</td>\n",
       "    </tr>\n",
       "  </tbody>\n",
       "</table>\n"
      ],
      "text/plain": [
       "<pandas.io.formats.style.Styler at 0x7392af534e60>"
      ]
     },
     "execution_count": 1,
     "metadata": {},
     "output_type": "execute_result"
    }
   ],
   "source": [
    "import torch\n",
    "import pandas as pd\n",
    "\n",
    "# 创建示例Tensor并转为DataFrame\n",
    "tensor = torch.randn(5, 3)\n",
    "df = pd.DataFrame(tensor.numpy())\n",
    "\n",
    "# 设置显示样式：隐藏行号、居中对齐、保留两位小数\n",
    "styled_df = (\n",
    "    df.style\n",
    "    .format(\"{:.2f}\")  # 所有列保留两位小数\n",
    "    .hide(axis=\"index\")  # 隐藏行索引\n",
    "    .set_properties(**{'text-align': 'center'})  # 居中对齐\n",
    ")\n",
    "\n",
    "styled_df  # 在Jupyter Notebook中直接显示"
   ]
  },
  {
   "cell_type": "code",
   "execution_count": null,
   "metadata": {},
   "outputs": [],
   "source": []
  }
 ],
 "metadata": {
  "kernelspec": {
   "display_name": "torch",
   "language": "python",
   "name": "python3"
  },
  "language_info": {
   "codemirror_mode": {
    "name": "ipython",
    "version": 3
   },
   "file_extension": ".py",
   "mimetype": "text/x-python",
   "name": "python",
   "nbconvert_exporter": "python",
   "pygments_lexer": "ipython3",
   "version": "3.12.9"
  }
 },
 "nbformat": 4,
 "nbformat_minor": 2
}
