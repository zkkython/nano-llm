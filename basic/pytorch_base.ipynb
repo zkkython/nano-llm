{
 "cells": [
  {
   "cell_type": "markdown",
   "metadata": {},
   "source": [
    "# Torch 维度展开/缩小\n",
    "\n",
    "unsqueeze 和 squeeze 方法\n",
    "unsqueeze 需要指定维度dim"
   ]
  },
  {
   "cell_type": "code",
   "execution_count": 1,
   "metadata": {},
   "outputs": [
    {
     "name": "stdout",
     "output_type": "stream",
     "text": [
      "torch.Size([3])\n"
     ]
    }
   ],
   "source": [
    "import torch\n",
    "\n",
    "\n",
    "data = torch.tensor([1,2,3], dtype=torch.float32)\n",
    "print(data.shape)\n",
    "\n"
   ]
  },
  {
   "cell_type": "code",
   "execution_count": 2,
   "metadata": {},
   "outputs": [
    {
     "name": "stdout",
     "output_type": "stream",
     "text": [
      "torch.Size([1, 3])\n",
      "tensor([[1., 2., 3.]])\n"
     ]
    }
   ],
   "source": [
    "# 在第0维加一个维度\n",
    "zero_data = data.unsqueeze(0)\n",
    "print(zero_data.shape)\n",
    "print(zero_data)"
   ]
  },
  {
   "cell_type": "code",
   "execution_count": 3,
   "metadata": {},
   "outputs": [
    {
     "name": "stdout",
     "output_type": "stream",
     "text": [
      "torch.Size([3, 1])\n"
     ]
    },
    {
     "data": {
      "text/plain": [
       "tensor([[1.],\n",
       "        [2.],\n",
       "        [3.]])"
      ]
     },
     "execution_count": 3,
     "metadata": {},
     "output_type": "execute_result"
    }
   ],
   "source": [
    "\n",
    "# 在都一维加一个维度\n",
    "one_data = data.unsqueeze(1)\n",
    "print(one_data.shape)\n",
    "one_data"
   ]
  },
  {
   "cell_type": "code",
   "execution_count": 4,
   "metadata": {},
   "outputs": [
    {
     "name": "stdout",
     "output_type": "stream",
     "text": [
      "torch.Size([3])\n",
      "tensor([1., 2., 3.])\n"
     ]
    }
   ],
   "source": [
    "\n",
    "remove_one = one_data.squeeze()\n",
    "print(remove_one.shape)\n",
    "print(remove_one)"
   ]
  },
  {
   "cell_type": "code",
   "execution_count": 5,
   "metadata": {},
   "outputs": [
    {
     "name": "stdout",
     "output_type": "stream",
     "text": [
      "torch.Size([3])\n",
      "tensor([1., 2., 3.])\n"
     ]
    }
   ],
   "source": [
    "remove_one = zero_data.squeeze()\n",
    "print(remove_one.shape)\n",
    "print(remove_one)"
   ]
  },
  {
   "cell_type": "markdown",
   "metadata": {},
   "source": [
    "# 连接与堆叠\n",
    "cat 和 stack堆叠"
   ]
  },
  {
   "cell_type": "code",
   "execution_count": 6,
   "metadata": {},
   "outputs": [
    {
     "name": "stdout",
     "output_type": "stream",
     "text": [
      "tensor([[1],\n",
      "        [2],\n",
      "        [3]])\n",
      "torch.Size([3, 1])\n",
      "[tensor([[1],\n",
      "        [2],\n",
      "        [3]]), tensor([[1],\n",
      "        [4],\n",
      "        [9]]), tensor([[ 1],\n",
      "        [ 8],\n",
      "        [27]])]\n",
      "tensor([[ 1],\n",
      "        [ 2],\n",
      "        [ 3],\n",
      "        [ 1],\n",
      "        [ 4],\n",
      "        [ 9],\n",
      "        [ 1],\n",
      "        [ 8],\n",
      "        [27]])\n",
      "torch.Size([9, 1])\n",
      "tensor([[ 1,  1,  1],\n",
      "        [ 2,  4,  8],\n",
      "        [ 3,  9, 27]])\n",
      "torch.Size([3, 3])\n"
     ]
    },
    {
     "ename": "",
     "evalue": "",
     "output_type": "error",
     "traceback": [
      "\u001b[1;31mThe Kernel crashed while executing code in the the current cell or a previous cell. Please review the code in the cell(s) to identify a possible cause of the failure. Click <a href='https://aka.ms/vscodeJupyterKernelCrash'>here</a> for more info. View Jupyter <a href='command:jupyter.viewOutput'>log</a> for further details."
     ]
    }
   ],
   "source": [
    "d = torch.tensor([1,2,3]).unsqueeze(dim=1)\n",
    "print(d)\n",
    "print(d.shape)\n",
    "\n",
    "d_update = [d **i for i in range(1, 4)]\n",
    "print(d_update)\n",
    "\n",
    "d_update_cat_0 = torch.cat(d_update,dim = 0)\n",
    "print(d_update_cat_0)\n",
    "print(d_update_cat_0.shape)\n",
    "\n",
    "d_update_dim_1 = torch.cat(d_update, dim = 1)\n",
    "print(d_update_dim_1)\n",
    "print(d_update_dim_1.shape)\n"
   ]
  },
  {
   "cell_type": "code",
   "execution_count": null,
   "metadata": {},
   "outputs": [],
   "source": []
  }
 ],
 "metadata": {
  "kernelspec": {
   "display_name": "torch",
   "language": "python",
   "name": "python3"
  },
  "language_info": {
   "name": "python",
   "version": "3.12.9"
  }
 },
 "nbformat": 4,
 "nbformat_minor": 2
}
